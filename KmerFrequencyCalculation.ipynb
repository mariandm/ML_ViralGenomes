{
 "cells": [
  {
   "cell_type": "markdown",
   "id": "14f436e4",
   "metadata": {},
   "source": [
    "## K-mer frequency calculation"
   ]
  },
  {
   "cell_type": "code",
   "execution_count": null,
   "id": "d75d81c1",
   "metadata": {},
   "outputs": [],
   "source": [
    "# Note - this blows up 4^k, so don't use this for long k-mers\n",
    "# Defining a function to generate the kmer frequency matrix for a genome with any given k (though it blows up exponentially so not too many)\n",
    "def calculate_kmer_frequencies(k,sequence):\n",
    "    kmer_library=itertools.product('ATCG',repeat=k)\n",
    "    output=[sequence.seq.count_overlap(''.join(kmer)) for kmer in kmer_library]\n",
    "    array_version=np.array(output)\n",
    "    return array_version"
   ]
  },
  {
   "cell_type": "code",
   "execution_count": null,
   "id": "32b36f53",
   "metadata": {},
   "outputs": [],
   "source": [
    "## DON'T RUN THIS I ALREADY SAVED THE OUTPUT\n",
    "# Here we are generating the tetramer matrix for all of the GOV viruses\n",
    "sequence_file=SeqIO.parse('GOV2_viral_populations_larger_than_5KB_or_circular.fasta','fasta')\n",
    "seq_names=[]\n",
    "output=[]\n",
    "tracker=0\n",
    "for record in sequence_file:\n",
    "    tracker+=1\n",
    "    seq_names.append(record.id)\n",
    "    kmers=calculate_kmer_frequencies(4,record)\n",
    "    output.append(kmers.transpose())\n",
    "    if tracker % 100 == 0:\n",
    "        print(str(tracker)+' sequences analyzed')\n",
    "output=np.stack(output,axis=0)\n",
    "print(output)"
   ]
  },
  {
   "cell_type": "code",
   "execution_count": null,
   "id": "f481a67a",
   "metadata": {},
   "outputs": [],
   "source": [
    "## ALSO DON'T RUN THIS UNLESS YOU RAN THE PREVIOUS CELL\n",
    "# Clearning up the output and writing out\n",
    "column_names=[''.join(item) for item in itertools.product('ATCG',repeat=4)]\n",
    "finished_frame=pd.DataFrame(output,index=seq_names,columns=column_names)\n",
    "finished_frame.to_csv('tetramer_frequencies.csv',index=True,header=True)\n",
    "finished_frame.index = finished_frame.index.astype('str')\n",
    "no_malaspina=finished_frame[finished_frame.index.str.contains('Station')]\n",
    "no_malaspina.to_csv('tetramer_gov_only.csv',index=True,header=True)"
   ]
  }
 ],
 "metadata": {
  "kernelspec": {
   "display_name": "Python 3",
   "language": "python",
   "name": "python3"
  },
  "language_info": {
   "codemirror_mode": {
    "name": "ipython",
    "version": 3
   },
   "file_extension": ".py",
   "mimetype": "text/x-python",
   "name": "python",
   "nbconvert_exporter": "python",
   "pygments_lexer": "ipython3",
   "version": "3.8.8"
  }
 },
 "nbformat": 4,
 "nbformat_minor": 5
}
