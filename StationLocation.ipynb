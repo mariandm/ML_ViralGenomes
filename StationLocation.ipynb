{
 "cells": [
  {
   "cell_type": "markdown",
   "id": "fd5b1593",
   "metadata": {},
   "source": [
    "## Extracting environmental Features"
   ]
  },
  {
   "cell_type": "code",
   "execution_count": null,
   "id": "b56f1c64",
   "metadata": {},
   "outputs": [],
   "source": [
    "station_environmental_data=pd.read_csv('./TARA_registies_water_column.tab',delimiter='\\t',skiprows=2542)"
   ]
  },
  {
   "cell_type": "code",
   "execution_count": null,
   "id": "85747f16",
   "metadata": {},
   "outputs": [],
   "source": [
    "def redefine_depth_code(string):\n",
    "    if '[SRF]' in string:\n",
    "        output='SUR'\n",
    "    elif '[MES]' in string:\n",
    "        output='MES'\n",
    "    elif '[DCM]' in string:\n",
    "        output='DCM'\n",
    "    elif '[MIX]' in string:\n",
    "        output='MXL'\n",
    "    elif '[ZZZ]' in string:\n",
    "        output='ZZZ'\n",
    "    else:\n",
    "        output='NA'\n",
    "    return output"
   ]
  },
  {
   "cell_type": "code",
   "execution_count": null,
   "id": "c330f03f",
   "metadata": {},
   "outputs": [],
   "source": [
    "station_environmental_data['updated_station']=station_environmental_data['Station (TARA_station#)'].str.replace('TARA_','Station')\n",
    "station_environmental_data['updated_station']=station_environmental_data['updated_station'].str.replace('n0','n')\n",
    "station_environmental_data['updated_depth_code']=station_environmental_data['Env feature ([abbreviation] description (E...)'].apply(redefine_depth_code)"
   ]
  },
  {
   "cell_type": "code",
   "execution_count": null,
   "id": "a0eb505c",
   "metadata": {},
   "outputs": [],
   "source": [
    "def depth_parsing_function(string):\n",
    "    if string.lower().islower():\n",
    "        mean_depth='NA'\n",
    "    elif '-' in string:\n",
    "        min_depth=string.split('-')[0]\n",
    "        max_depth=string.split('-')[1]\n",
    "        mean_depth=np.mean([float(min_depth),float(max_depth)])\n",
    "    else:\n",
    "        mean_depth=float(string)\n",
    "    return(mean_depth)"
   ]
  },
  {
   "cell_type": "code",
   "execution_count": null,
   "id": "bb6204a8",
   "metadata": {},
   "outputs": [],
   "source": [
    "def lat_long_matching_function(row):\n",
    "    sample_slice=station_environmental_data[(station_environmental_data['updated_station']==row['station']) & (station_environmental_data['updated_depth_code']==row['depth_class'])]\n",
    "    lat=np.mean(sample_slice['Latitude (TARA_event-datetime_station#_...)'])\n",
    "    lon=np.mean(sample_slice['Longitude (TARA_event-datetime_station#_...)'])\n",
    "    row['depth']=np.mean(sample_slice['Depth, nominal (of the environmental feature)'].apply(float))\n",
    "    row['lat']=lat\n",
    "    row['lon']=lon\n",
    "    return row"
   ]
  },
  {
   "cell_type": "code",
   "execution_count": null,
   "id": "77775b45",
   "metadata": {},
   "outputs": [],
   "source": [
    "station_environmental_data['Latitude (TARA_event-datetime_station#_...)']=station_environmental_data['Latitude (TARA_event-datetime_station#_...)'].apply(float)\n",
    "station_environmental_data['Longitude (TARA_event-datetime_station#_...)']=station_environmental_data['Longitude (TARA_event-datetime_station#_...)'].apply(float)\n",
    "station_environmental_data['Depth, nominal (of the environmental feature)']=station_environmental_data['Depth, nominal (of the environmental feature)'].apply(depth_parsing_function)"
   ]
  },
  {
   "cell_type": "code",
   "execution_count": null,
   "id": "cb96fc44",
   "metadata": {},
   "outputs": [],
   "source": [
    "genome_covariates.to_csv('station_environmental_data.csv', index=False)"
   ]
  }
 ],
 "metadata": {
  "kernelspec": {
   "display_name": "Python 3",
   "language": "python",
   "name": "python3"
  },
  "language_info": {
   "codemirror_mode": {
    "name": "ipython",
    "version": 3
   },
   "file_extension": ".py",
   "mimetype": "text/x-python",
   "name": "python",
   "nbconvert_exporter": "python",
   "pygments_lexer": "ipython3",
   "version": "3.8.8"
  }
 },
 "nbformat": 4,
 "nbformat_minor": 5
}
