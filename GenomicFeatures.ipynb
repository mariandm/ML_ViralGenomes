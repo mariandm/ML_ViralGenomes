{
 "cells": [
  {
   "cell_type": "markdown",
   "id": "8fa76181",
   "metadata": {},
   "source": [
    "## Extracting genomic features"
   ]
  },
  {
   "cell_type": "code",
   "execution_count": null,
   "id": "4b72a62a",
   "metadata": {},
   "outputs": [],
   "source": [
    "from Bio import SeqIO\n",
    "from Bio.SeqUtils import GC\n",
    "from Bio.SeqIO.FastaIO import SimpleFastaParser\n",
    "import pandas as pd\n",
    "import numpy as np\n",
    "import matplotlib.pyplot as plt\n",
    "import seaborn as sns"
   ]
  },
  {
   "cell_type": "code",
   "execution_count": null,
   "id": "5fd490a4",
   "metadata": {},
   "outputs": [],
   "source": [
    "# Initializing lists in order to extract feature information from viral sequences\n",
    "sequence_lengths=[]\n",
    "sequence_gc=[]\n",
    "seq_ids=[]\n",
    "sequence_adenine=[]\n",
    "sequence_guanine=[]\n",
    "sequence_cytosine=[]\n",
    "sequence_thymine=[]"
   ]
  },
  {
   "cell_type": "code",
   "execution_count": null,
   "id": "36f7d0e4",
   "metadata": {},
   "outputs": [],
   "source": [
    "# Parsing features from viral sequences - an id to denote where the sequence came from, the genome length, and the GC content\n",
    "with open('./GOV2_viral_populations_larger_than_5KB_or_circular.fasta') as file:\n",
    "    for header,sequence in SimpleFastaParser(file):\n",
    "        sequence_lengths.append(len(sequence))\n",
    "        seq_ids.append(header)\n",
    "        sequence_gc.append(GC(sequence))\n",
    "        sequence_adenine.append(sequence.count('A'))\n",
    "        sequence_guanine.append(sequence.count('G'))\n",
    "        sequence_cytosine.append(sequence.count('C'))\n",
    "        sequence_thymine.append(sequence.count('T'))"
   ]
  },
  {
   "cell_type": "code",
   "execution_count": null,
   "id": "5dca8cd7",
   "metadata": {},
   "outputs": [],
   "source": [
    "################################\n",
    "# Initializing environmental data categories to parse from sequence headers\n",
    "station_id=[]\n",
    "depth_class=[]\n",
    "for line in seq_ids:\n",
    "    if len(line)!=0:\n",
    "        station_id.append(line.split('_')[0])\n",
    "        depth_class.append(line.split('_')[1])\n",
    "    else:\n",
    "        station_id.append('NA')\n",
    "        depth_class.append('NA')\n",
    "        print('No Seq Header')"
   ]
  },
  {
   "cell_type": "code",
   "execution_count": null,
   "id": "381221ae",
   "metadata": {},
   "outputs": [],
   "source": [
    "data=np.array([seq_ids,sequence_lengths,sequence_gc,sequence_adenine,sequence_thymine,sequence_guanine,sequence_cytosine,station_id,depth_class])\n",
    "data=data.transpose()\n",
    "sequence_stats=pd.DataFrame(data,columns=['ID','length','GC','A','T','G','C','station','depth_class'])\n",
    "no_malaspina=sequence_stats[~sequence_stats.depth_class.isin(['Malaspina','NA'])]\n",
    "no_malaspina['depth_class'].replace('IZZ','ZZZ')\n",
    "genome_covariates = no_malaspina"
   ]
  },
  {
   "cell_type": "code",
   "execution_count": null,
   "id": "47ec6dea",
   "metadata": {},
   "outputs": [],
   "source": [
    "genome_covariates['length']=genome_covariates['length'].apply(float)\n",
    "genome_covariates['GC']=genome_covariates['GC'].apply(float)\n",
    "genome_covariates['A']=genome_covariates['A'].apply(float)\n",
    "genome_covariates['T']=genome_covariates['T'].apply(float)\n",
    "genome_covariates['C']=genome_covariates['C'].apply(float)\n",
    "genome_covariates['G']=genome_covariates['G'].apply(float)"
   ]
  },
  {
   "cell_type": "code",
   "execution_count": null,
   "id": "e31c8620",
   "metadata": {},
   "outputs": [],
   "source": [
    "# The elemental formulae for the nucleotides are as follows:\n",
    "# adenine: C5H5N5\n",
    "# guanine: C5H5N5O\n",
    "# cytosine: C4H5N3O\n",
    "# thymine: C5H6N2O2\n",
    "# We will convert the nucleotide frequencies to elemental C:N content and ratios\n",
    "# Assuming double stranded DNA viruses\n",
    "genome_covariates=genome_covariates.assign(total_c=2*(genome_covariates['A']*5+genome_covariates['G']*5+genome_covariates['C']*4+genome_covariates['T']*5+5))\n",
    "genome_covariates=genome_covariates.assign(total_n=2*(genome_covariates['A']*5+genome_covariates['G']*5+genome_covariates['C']*3+genome_covariates['T']*2))\n",
    "genome_covariates=genome_covariates.assign(c_to_n=genome_covariates['total_c']/genome_covariates['total_n'])"
   ]
  },
  {
   "cell_type": "code",
   "execution_count": null,
   "id": "ac765d21",
   "metadata": {},
   "outputs": [],
   "source": [
    "genome_covariates.to_csv('genome_covariates.csv', index=False)"
   ]
  }
 ],
 "metadata": {
  "kernelspec": {
   "display_name": "Python 3",
   "language": "python",
   "name": "python3"
  },
  "language_info": {
   "codemirror_mode": {
    "name": "ipython",
    "version": 3
   },
   "file_extension": ".py",
   "mimetype": "text/x-python",
   "name": "python",
   "nbconvert_exporter": "python",
   "pygments_lexer": "ipython3",
   "version": "3.8.8"
  }
 },
 "nbformat": 4,
 "nbformat_minor": 5
}
